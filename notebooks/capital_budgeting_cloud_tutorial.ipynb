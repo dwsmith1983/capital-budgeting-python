{
 "cells": [
  {
   "cell_type": "code",
   "execution_count": null,
   "metadata": {
    "application/vnd.databricks.v1+cell": {
     "inputWidgets": {},
     "nuid": "ef2a21f8-6a38-4c33-a035-c6fca231b6de",
     "showTitle": false,
     "title": ""
    }
   },
   "outputs": [
    {
     "data": {
      "text/html": [
       "<style scoped>\n",
       "  .ansiout {\n",
       "    display: block;\n",
       "    unicode-bidi: embed;\n",
       "    white-space: pre-wrap;\n",
       "    word-wrap: break-word;\n",
       "    word-break: break-all;\n",
       "    font-family: \"Source Code Pro\", \"Menlo\", monospace;;\n",
       "    font-size: 13px;\n",
       "    color: #555;\n",
       "    margin-left: 4px;\n",
       "    line-height: 19px;\n",
       "  }\n",
       "</style>\n",
       "<div class=\"ansiout\"></div>"
      ]
     },
     "metadata": {
      "application/vnd.databricks.v1+output": {
       "addedWidgets": {},
       "arguments": {},
       "data": "<div class=\"ansiout\"></div>",
       "datasetInfos": [],
       "metadata": {},
       "removedWidgets": [],
       "type": "html"
      }
     },
     "output_type": "display_data"
    }
   ],
   "source": [
    "import operator\n",
    "import numpy as np\n",
    "import numpy_financial as npf\n",
    "import pandas as pd\n",
    "import matplotlib.pyplot as plt\n",
    "\n",
    "pd.set_option('display.float_format', lambda x: '%.2f' % x)"
   ]
  },
  {
   "cell_type": "markdown",
   "metadata": {
    "application/vnd.databricks.v1+cell": {
     "inputWidgets": {},
     "nuid": "bd195b60-c465-4e63-8575-c6d2586aab14",
     "showTitle": false,
     "title": ""
    }
   },
   "source": [
    "# Scenario\n",
    "Many in industry have taken the leap from on premise to cloud based infrastructure. In the following scenario, we will examine this real world problem using Monte Carlo simulation for standard line items of an on premise to cloud migration. For you inidividual case, you may have other cost to consider as well. For the cloud provider, we are using Google and Databricks for analytics platform. Here I have rolled up their cost into one line item but you may want to break them out for a more robust analysis. Additionally, Databricks provided the numbers below for this scenario. Many thanks to them.\n",
    "\n",
    "In the case laid out below, we have that\n",
    "1. `data_center_thb` is the cost data center per year in Thai Baht.\n",
    "2. `servers` are the number of servers we maintain.\n",
    "3. `software` is the cost of enterprise licenses we pay for.\n",
    "4. `engineers_thb` is the cost of all our engineers who would have responsibilities covered by migrating cloud.\n",
    "5. `pro_service` is the professional service fee from GCP and Databricks for transitioning from on premise to cloud.\n",
    "6. `hurdle_rate` is the business risk of capital rate; however, we can use a distribution for this value to look different rates.\n",
    "\n",
    "This notebook can be modified for traditional applications such as manufactoring or other tech style evaluations. This isn't solely for analyzing on premise to cloud but just the example used here today.\n",
    "\n",
    "### Info\n",
    "In this scenario, we are based in Thailand so local cost will be in THB and others will be USD. All THB cost will be indicated with THB, and during the analysis, we will convert to USD for the final results."
   ]
  },
  {
   "cell_type": "code",
   "execution_count": null,
   "metadata": {
    "application/vnd.databricks.v1+cell": {
     "inputWidgets": {},
     "nuid": "0c34e68c-0963-4e46-965e-c6320060c264",
     "showTitle": false,
     "title": ""
    }
   },
   "outputs": [
    {
     "data": {
      "text/html": [
       "<style scoped>\n",
       "  .ansiout {\n",
       "    display: block;\n",
       "    unicode-bidi: embed;\n",
       "    white-space: pre-wrap;\n",
       "    word-wrap: break-word;\n",
       "    word-break: break-all;\n",
       "    font-family: \"Source Code Pro\", \"Menlo\", monospace;;\n",
       "    font-size: 13px;\n",
       "    color: #555;\n",
       "    margin-left: 4px;\n",
       "    line-height: 19px;\n",
       "  }\n",
       "</style>\n",
       "<div class=\"ansiout\"></div>"
      ]
     },
     "metadata": {
      "application/vnd.databricks.v1+output": {
       "addedWidgets": {},
       "arguments": {},
       "data": "<div class=\"ansiout\"></div>",
       "datasetInfos": [],
       "metadata": {},
       "removedWidgets": [],
       "type": "html"
      }
     },
     "output_type": "display_data"
    }
   ],
   "source": [
    "data_center_thb = 33000000      # 500k-1.3M USD; we will take 1M USD\n",
    "infra_per_server_thb = 1163250  # 1.41M annual per server would 1.16M THB\n",
    "servers = 200\n",
    "software = 468000\n",
    "engineers_thb = 2227500 * 7     # 7 engineers at ~2.2M THB a year; full time for cloud replaceable costs\n",
    "tax_rate = .2                   # corporate tax rate incurred on all positive revenues\n",
    "hurdle_rate = .1                # risk adjusted hurdle rate can compute by using the function below instead of this static value\n",
    "year_one_thb = 33               # THB for year one (known)\n",
    "# working with your vendors, you should be profile your current usage\n",
    "pro_service = -350000           # migration professional service fee\n",
    "platform = -944000              # contract rate for 5 years based on 4.635PB 4.72M but credits would probably be 4.85M\n",
    "vm = -601000\n",
    "storage = -875000"
   ]
  },
  {
   "cell_type": "markdown",
   "metadata": {
    "application/vnd.databricks.v1+cell": {
     "inputWidgets": {},
     "nuid": "7736d85b-395e-4334-ad93-c3a30a5809c7",
     "showTitle": false,
     "title": ""
    }
   },
   "source": [
    "## Standard Distributions\n",
    "Common distributions to use during capital budgeting Monte Carlo are `triangular`, `uniform`, and `normal`. However, others may be used with care. If one uses a normal distribution, remember the tails trail off to negative and positive infinity which may or may not make sense for your scenario. Even though the probability may be small of selection beyond 3 standard deviations, it can happen in large number of simulations. With normal distributions, it might be good to define lower and upper bounds to assign to anything selected beyond a certain range. Another option is to use distributions that have support and only needing to bound at one extreme.\n",
    "\n",
    "In the distributions below, I demonstrate the use of `uniform`, `triangular`, and `normal`, but dont feel limited to these. If you know one of your cost has a `beta` distribution, use it. If you are a US user with US cost, you will not need the exchange rate throughout the this demo. You can either remove it or set it to 1 since dividing by will not change the end result."
   ]
  },
  {
   "cell_type": "code",
   "execution_count": null,
   "metadata": {
    "application/vnd.databricks.v1+cell": {
     "inputWidgets": {},
     "nuid": "98bc01cc-8348-4392-a33d-1d10c395a8a8",
     "showTitle": false,
     "title": ""
    }
   },
   "outputs": [
    {
     "data": {
      "text/html": [
       "<style scoped>\n",
       "  .ansiout {\n",
       "    display: block;\n",
       "    unicode-bidi: embed;\n",
       "    white-space: pre-wrap;\n",
       "    word-wrap: break-word;\n",
       "    word-break: break-all;\n",
       "    font-family: \"Source Code Pro\", \"Menlo\", monospace;;\n",
       "    font-size: 13px;\n",
       "    color: #555;\n",
       "    margin-left: 4px;\n",
       "    line-height: 19px;\n",
       "  }\n",
       "</style>\n",
       "<div class=\"ansiout\"></div>"
      ]
     },
     "metadata": {
      "application/vnd.databricks.v1+output": {
       "addedWidgets": {},
       "arguments": {},
       "data": "<div class=\"ansiout\"></div>",
       "datasetInfos": [],
       "metadata": {},
       "removedWidgets": [],
       "type": "html"
      }
     },
     "output_type": "display_data"
    }
   ],
   "source": [
    "def hardware_thb():\n",
    "    \"\"\"\n",
    "    Cost of the hardware per server in THB.\n",
    "    \"\"\"\n",
    "    return np.random.uniform(900000, 1200000)\n",
    "  \n",
    "    \n",
    "def data_growth():\n",
    "    \"\"\"\n",
    "    Data growth of the cluster.\n",
    "    \"\"\"\n",
    "    return np.random.triangular(1.03, 1.075, 1.1)\n",
    "\n",
    "\n",
    "def software_increase():\n",
    "    \"\"\"\n",
    "    Percentage increase of software licenses yearly.\n",
    "    \"\"\"\n",
    "    return np.random.triangular(1.005, 1.025, 1.05)\n",
    "\n",
    "\n",
    "def engineers_increase():\n",
    "    \"\"\"\n",
    "    Percentage increase of the salary of the engineers per year.\n",
    "    \"\"\"\n",
    "    return np.random.triangular(1.05, 1.085, 1.12)\n",
    "\n",
    "\n",
    "def data_center_cost_increase():\n",
    "    \"\"\"\n",
    "    Data center shared space cost increase yearly.\n",
    "    \"\"\"\n",
    "    return np.random.triangular(1.005, 1.01, 1.035)\n",
    "\n",
    "\n",
    "def exchange_thb():\n",
    "    \"\"\"\n",
    "    THB to USD exchange rate flucuation with a mean of 32 and SD of 2. In this case, we will bound the return\n",
    "    values to a minimum of 28 and a maximum of 38.\n",
    "    \"\"\"\n",
    "    thb = np.random.normal(32, 2)\n",
    "    if thb < 28:\n",
    "        return 30\n",
    "    if thb > 36:\n",
    "        return 36\n",
    "    return thb\n",
    "\n",
    "\n",
    "def year_one_dual_cost():\n",
    "    \"\"\"\n",
    "    During the first year transition phase, we will experience partial on premise and cloud cost depending\n",
    "    on the speed of migration.\n",
    "    \"\"\"\n",
    "    return np.random.triangular(.25, .35, .5)\n",
    "\n",
    " \n",
    "def platform_5year_contract_growth():\n",
    "    \"\"\"\n",
    "    The growth rate for the contract platform cost.\n",
    "    \"\"\"\n",
    "    return np.random.triangular(1.035, 1.05, 1.07)\n",
    "  \n",
    "    \n",
    "def platform_vms_growth():\n",
    "    \"\"\"\n",
    "    Platform cost and vms cost dont increase 1:1 with an increase in data. \n",
    "    Estimates according to DB was between 25-50%.\n",
    "    \"\"\"\n",
    "    return np.random.triangular(0.25, 0.375, 0.5)\n",
    "  \n",
    "    \n",
    "def risk_adjusted_hurdle():\n",
    "    \"\"\"\n",
    "    We cannot account for every risk profile in this simulation; therefore, we can capture some of this additional\n",
    "    risk by considering hurdle rate which incorporates a higher return needed.\n",
    "    \"\"\"\n",
    "    rate = np.random.normal(.1, .025)  # mean 10% std 2.5%\n",
    "    # will take a normal distribution with hard cuts at 10% and 25% as opposed to a triangular\n",
    "    if rate < .1:\n",
    "        return .1\n",
    "    if rate > .25:\n",
    "        return .25\n",
    "    return rate"
   ]
  },
  {
   "cell_type": "code",
   "execution_count": null,
   "metadata": {
    "application/vnd.databricks.v1+cell": {
     "inputWidgets": {},
     "nuid": "5b594e0b-a67b-42f6-afa4-3902b032feae",
     "showTitle": false,
     "title": ""
    }
   },
   "outputs": [
    {
     "data": {
      "text/html": [
       "<style scoped>\n",
       "  .ansiout {\n",
       "    display: block;\n",
       "    unicode-bidi: embed;\n",
       "    white-space: pre-wrap;\n",
       "    word-wrap: break-word;\n",
       "    word-break: break-all;\n",
       "    font-family: \"Source Code Pro\", \"Menlo\", monospace;;\n",
       "    font-size: 13px;\n",
       "    color: #555;\n",
       "    margin-left: 4px;\n",
       "    line-height: 19px;\n",
       "  }\n",
       "</style>\n",
       "<div class=\"ansiout\"></div>"
      ]
     },
     "metadata": {
      "application/vnd.databricks.v1+output": {
       "addedWidgets": {},
       "arguments": {},
       "data": "<div class=\"ansiout\"></div>",
       "datasetInfos": [],
       "metadata": {},
       "removedWidgets": [],
       "type": "html"
      }
     },
     "output_type": "display_data"
    }
   ],
   "source": [
    "def create_data():\n",
    "    # if you have more line items to account for, update the indices needed here.\n",
    "    # setup dataframe\n",
    "    df = pd.DataFrame([], columns=[f\"year_{i}\" for i in range(0, 11)])\n",
    "    df.loc[:, \"index\"] = [\"data_center\", \"infrastructure\", \"engineers\", \"software\", \"platform\", \"cloud_vms\", \"cloud_storage\", \"cashflows\", \"after_tax\"]\n",
    "    df.set_index(\"index\", inplace=True)\n",
    "    df.fillna(0, inplace=True)\n",
    "    # initialize year_0\n",
    "    df.loc[\"cashflows\", \"year_0\"] = pro_service\n",
    "    df.loc[\"after_tax\", \"year_0\"] = pro_service\n",
    "    \n",
    "    # cloud/prem\n",
    "    premise = [\"data_center\", \"infrastructure\", \"engineers\", \"software\"]\n",
    "    cloud = [\"platform\", \"cloud_vms\", \"cloud_storage\"]\n",
    "    platform = -944000 \n",
    "    \n",
    "    # this the spend for 5 years\n",
    "    # if data growth causes higher spend, we need to add that in if it occurs.\n",
    "    # extras built into first contract to cover additional dbu spend\n",
    "    track_platform = 4850000\n",
    "\n",
    "    for i in range(1, 11):\n",
    "        # not the cleanest but just doing first year value setting and checking for cycle update params\n",
    "        if i == 1:                            \n",
    "            hardware = infra_per_server_thb / year_one_thb / 5 * servers \n",
    "            engineer_pay = engineers_thb / year_one_thb\n",
    "            # to demo the split example, I am using 0.5 hardcode but you can use the distribution sampling.\n",
    "            # dual_cost = year_one_dual_cost() \n",
    "            dual_cost = 0.5  # using 0.5 here to mimic the example online\n",
    "            track_platform += platform\n",
    "        elif i == 2:\n",
    "            # distribution selection starts here; year one is known\n",
    "            growth = data_growth()\n",
    "            growth_others = 1 + (growth - 1) * platform_vms_growth()\n",
    "            track_platform += platform * growth_others\n",
    "            engineer_pay = engineers_thb * engineers_increase() / exchange_thb()\n",
    "        elif i == 6:\n",
    "            # hardware upgrade cycle split cost over 5 years\n",
    "            # platform contract renewal\n",
    "            rate = exchange_thb()\n",
    "            engineer_pay = engineers_thb * engineers_increase() / rate\n",
    "            hardware = hardware_thb() / rate / 5 * servers    \n",
    "            data_increase = data_growth()\n",
    "            # contract\n",
    "            platform = -944000 * platform_5year_contract_growth()\n",
    "            track_platform = -platform * 4\n",
    "        else:\n",
    "            growth = data_growth()\n",
    "            growth_others = 1 + (growth - 1) * platform_vms_growth()\n",
    "            track_platform += platform * growth_others\n",
    "            # if data growth is higher than usage agreement, we would need to cover that additional cost\n",
    "            # for out of contract dbus\n",
    "            platform = platform if track_platform >= 0 else platform + track_platform\n",
    "            engineer_pay = engineers_thb * engineers_increase() / exchange_thb()\n",
    "  \n",
    "        # populate the data\n",
    "        df.loc[\"data_center\", f\"year_{i}\"] = data_center_thb / year_one_thb if i == 1 else df.loc[\"data_center\", f\"year_{i - 1}\"] * data_center_cost_increase()\n",
    "        df.loc[\"infrastructure\", f\"year_{i}\"] = hardware\n",
    "        df.loc[\"engineers\", f\"year_{i}\"] = engineer_pay \n",
    "        df.loc[\"software\", f\"year_{i}\"] = software if i == 1 else df.loc[\"software\", f\"year_{i - 1}\"] * software_increase()\n",
    "        df.loc[\"platform\", f\"year_{i}\"] = platform \n",
    "        df.loc[\"cloud_vms\", f\"year_{i}\"] = vm if i == 1 else df.loc[\"cloud_vms\", f\"year_{i - 1}\"] * growth_others \n",
    "        df.loc[\"cloud_storage\", f\"year_{i}\"] = storage if i == 1 else df.loc[\"cloud_storage\", f\"year_{i - 1}\"] * growth\n",
    "        df.loc[\"cashflows\", f\"year_{i}\"] = df.loc[premise, f\"year_{i}\"].sum() * (1 - dual_cost) + df.loc[cloud, f\"year_{i}\"].sum() * dual_cost if i == 1 else df.loc[premise, f\"year_{i}\"].sum() + df.loc[cloud, f\"year_{i}\"].sum()\n",
    "        df.loc[\"after_tax\", f\"year_{i}\"] = df.loc[\"cashflows\", f\"year_{i}\"] if df.loc[\"cashflows\", f\"year_{i}\"] <= 0 else df.loc[\"cashflows\", f\"year_{i}\"] * 0.8\n",
    "        \n",
    "    return df\n"
   ]
  },
  {
   "cell_type": "code",
   "execution_count": null,
   "metadata": {
    "application/vnd.databricks.v1+cell": {
     "inputWidgets": {},
     "nuid": "255734fe-b90c-4538-b7e9-11b7c400befe",
     "showTitle": false,
     "title": ""
    }
   },
   "outputs": [
    {
     "data": {
      "text/html": [
       "<style scoped>\n",
       "  .ansiout {\n",
       "    display: block;\n",
       "    unicode-bidi: embed;\n",
       "    white-space: pre-wrap;\n",
       "    word-wrap: break-word;\n",
       "    word-break: break-all;\n",
       "    font-family: \"Source Code Pro\", \"Menlo\", monospace;;\n",
       "    font-size: 13px;\n",
       "    color: #555;\n",
       "    margin-left: 4px;\n",
       "    line-height: 19px;\n",
       "  }\n",
       "</style>\n",
       "<div class=\"ansiout\">Out[79]: </div>"
      ]
     },
     "metadata": {
      "application/vnd.databricks.v1+output": {
       "addedWidgets": {},
       "arguments": {},
       "data": "<div class=\"ansiout\">Out[79]: </div>",
       "datasetInfos": [],
       "metadata": {},
       "removedWidgets": [],
       "type": "html"
      }
     },
     "output_type": "display_data"
    },
    {
     "data": {
      "text/html": [
       "<div>\n",
       "<style scoped>\n",
       "    .dataframe tbody tr th:only-of-type {\n",
       "        vertical-align: middle;\n",
       "    }\n",
       "\n",
       "    .dataframe tbody tr th {\n",
       "        vertical-align: top;\n",
       "    }\n",
       "\n",
       "    .dataframe thead th {\n",
       "        text-align: right;\n",
       "    }\n",
       "</style>\n",
       "<table border=\"1\" class=\"dataframe\">\n",
       "  <thead>\n",
       "    <tr style=\"text-align: right;\">\n",
       "      <th></th>\n",
       "      <th>year_0</th>\n",
       "      <th>year_1</th>\n",
       "      <th>year_2</th>\n",
       "      <th>year_3</th>\n",
       "      <th>year_4</th>\n",
       "      <th>year_5</th>\n",
       "      <th>year_6</th>\n",
       "      <th>year_7</th>\n",
       "      <th>year_8</th>\n",
       "      <th>year_9</th>\n",
       "      <th>year_10</th>\n",
       "    </tr>\n",
       "    <tr>\n",
       "      <th>index</th>\n",
       "      <th></th>\n",
       "      <th></th>\n",
       "      <th></th>\n",
       "      <th></th>\n",
       "      <th></th>\n",
       "      <th></th>\n",
       "      <th></th>\n",
       "      <th></th>\n",
       "      <th></th>\n",
       "      <th></th>\n",
       "      <th></th>\n",
       "    </tr>\n",
       "  </thead>\n",
       "  <tbody>\n",
       "    <tr>\n",
       "      <th>data_center</th>\n",
       "      <td>0</td>\n",
       "      <td>1000000.00</td>\n",
       "      <td>1022813.13</td>\n",
       "      <td>1042250.58</td>\n",
       "      <td>1061510.67</td>\n",
       "      <td>1090529.07</td>\n",
       "      <td>1113402.09</td>\n",
       "      <td>1138886.46</td>\n",
       "      <td>1154365.94</td>\n",
       "      <td>1184270.24</td>\n",
       "      <td>1196028.30</td>\n",
       "    </tr>\n",
       "    <tr>\n",
       "      <th>infrastructure</th>\n",
       "      <td>0</td>\n",
       "      <td>1410000.00</td>\n",
       "      <td>1410000.00</td>\n",
       "      <td>1410000.00</td>\n",
       "      <td>1410000.00</td>\n",
       "      <td>1410000.00</td>\n",
       "      <td>1343811.67</td>\n",
       "      <td>1343811.67</td>\n",
       "      <td>1343811.67</td>\n",
       "      <td>1343811.67</td>\n",
       "      <td>1343811.67</td>\n",
       "    </tr>\n",
       "    <tr>\n",
       "      <th>engineers</th>\n",
       "      <td>0</td>\n",
       "      <td>472500.00</td>\n",
       "      <td>514661.29</td>\n",
       "      <td>590307.11</td>\n",
       "      <td>526933.57</td>\n",
       "      <td>510638.82</td>\n",
       "      <td>575329.88</td>\n",
       "      <td>553775.35</td>\n",
       "      <td>558519.71</td>\n",
       "      <td>503268.92</td>\n",
       "      <td>503015.77</td>\n",
       "    </tr>\n",
       "    <tr>\n",
       "      <th>software</th>\n",
       "      <td>0</td>\n",
       "      <td>468000.00</td>\n",
       "      <td>474855.01</td>\n",
       "      <td>487516.97</td>\n",
       "      <td>500622.92</td>\n",
       "      <td>509316.22</td>\n",
       "      <td>524894.70</td>\n",
       "      <td>542898.66</td>\n",
       "      <td>550845.80</td>\n",
       "      <td>569464.38</td>\n",
       "      <td>582023.90</td>\n",
       "    </tr>\n",
       "    <tr>\n",
       "      <th>platform</th>\n",
       "      <td>0</td>\n",
       "      <td>-944000.00</td>\n",
       "      <td>-944000.00</td>\n",
       "      <td>-944000.00</td>\n",
       "      <td>-944000.00</td>\n",
       "      <td>-944000.00</td>\n",
       "      <td>-994763.38</td>\n",
       "      <td>-994763.38</td>\n",
       "      <td>-994763.38</td>\n",
       "      <td>-994763.38</td>\n",
       "      <td>-1082504.75</td>\n",
       "    </tr>\n",
       "    <tr>\n",
       "      <th>cloud_vms</th>\n",
       "      <td>0</td>\n",
       "      <td>-601000.00</td>\n",
       "      <td>-622188.83</td>\n",
       "      <td>-638608.88</td>\n",
       "      <td>-650894.58</td>\n",
       "      <td>-672389.49</td>\n",
       "      <td>-694594.25</td>\n",
       "      <td>-706406.47</td>\n",
       "      <td>-723941.20</td>\n",
       "      <td>-740923.95</td>\n",
       "      <td>-757903.08</td>\n",
       "    </tr>\n",
       "    <tr>\n",
       "      <th>cloud_storage</th>\n",
       "      <td>0</td>\n",
       "      <td>-875000.00</td>\n",
       "      <td>-959316.03</td>\n",
       "      <td>-1026023.77</td>\n",
       "      <td>-1097079.00</td>\n",
       "      <td>-1185203.69</td>\n",
       "      <td>-1280407.13</td>\n",
       "      <td>-1339105.42</td>\n",
       "      <td>-1444266.50</td>\n",
       "      <td>-1539606.05</td>\n",
       "      <td>-1625614.88</td>\n",
       "    </tr>\n",
       "    <tr>\n",
       "      <th>cashflows</th>\n",
       "      <td>-350000</td>\n",
       "      <td>465250.00</td>\n",
       "      <td>896824.57</td>\n",
       "      <td>921442.01</td>\n",
       "      <td>807093.58</td>\n",
       "      <td>718890.93</td>\n",
       "      <td>587673.58</td>\n",
       "      <td>539096.88</td>\n",
       "      <td>444572.04</td>\n",
       "      <td>325521.83</td>\n",
       "      <td>158856.94</td>\n",
       "    </tr>\n",
       "    <tr>\n",
       "      <th>after_tax</th>\n",
       "      <td>-350000</td>\n",
       "      <td>372200.00</td>\n",
       "      <td>717459.66</td>\n",
       "      <td>737153.60</td>\n",
       "      <td>645674.87</td>\n",
       "      <td>575112.74</td>\n",
       "      <td>470138.87</td>\n",
       "      <td>431277.50</td>\n",
       "      <td>355657.63</td>\n",
       "      <td>260417.47</td>\n",
       "      <td>127085.55</td>\n",
       "    </tr>\n",
       "  </tbody>\n",
       "</table>\n",
       "</div>"
      ]
     },
     "metadata": {
      "application/vnd.databricks.v1+output": {
       "addedWidgets": {},
       "arguments": {},
       "data": "<div>\n<style scoped>\n    .dataframe tbody tr th:only-of-type {\n        vertical-align: middle;\n    }\n\n    .dataframe tbody tr th {\n        vertical-align: top;\n    }\n\n    .dataframe thead th {\n        text-align: right;\n    }\n</style>\n<table border=\"1\" class=\"dataframe\">\n  <thead>\n    <tr style=\"text-align: right;\">\n      <th></th>\n      <th>year_0</th>\n      <th>year_1</th>\n      <th>year_2</th>\n      <th>year_3</th>\n      <th>year_4</th>\n      <th>year_5</th>\n      <th>year_6</th>\n      <th>year_7</th>\n      <th>year_8</th>\n      <th>year_9</th>\n      <th>year_10</th>\n    </tr>\n    <tr>\n      <th>index</th>\n      <th></th>\n      <th></th>\n      <th></th>\n      <th></th>\n      <th></th>\n      <th></th>\n      <th></th>\n      <th></th>\n      <th></th>\n      <th></th>\n      <th></th>\n    </tr>\n  </thead>\n  <tbody>\n    <tr>\n      <th>data_center</th>\n      <td>0</td>\n      <td>1000000.00</td>\n      <td>1022813.13</td>\n      <td>1042250.58</td>\n      <td>1061510.67</td>\n      <td>1090529.07</td>\n      <td>1113402.09</td>\n      <td>1138886.46</td>\n      <td>1154365.94</td>\n      <td>1184270.24</td>\n      <td>1196028.30</td>\n    </tr>\n    <tr>\n      <th>infrastructure</th>\n      <td>0</td>\n      <td>1410000.00</td>\n      <td>1410000.00</td>\n      <td>1410000.00</td>\n      <td>1410000.00</td>\n      <td>1410000.00</td>\n      <td>1343811.67</td>\n      <td>1343811.67</td>\n      <td>1343811.67</td>\n      <td>1343811.67</td>\n      <td>1343811.67</td>\n    </tr>\n    <tr>\n      <th>engineers</th>\n      <td>0</td>\n      <td>472500.00</td>\n      <td>514661.29</td>\n      <td>590307.11</td>\n      <td>526933.57</td>\n      <td>510638.82</td>\n      <td>575329.88</td>\n      <td>553775.35</td>\n      <td>558519.71</td>\n      <td>503268.92</td>\n      <td>503015.77</td>\n    </tr>\n    <tr>\n      <th>software</th>\n      <td>0</td>\n      <td>468000.00</td>\n      <td>474855.01</td>\n      <td>487516.97</td>\n      <td>500622.92</td>\n      <td>509316.22</td>\n      <td>524894.70</td>\n      <td>542898.66</td>\n      <td>550845.80</td>\n      <td>569464.38</td>\n      <td>582023.90</td>\n    </tr>\n    <tr>\n      <th>platform</th>\n      <td>0</td>\n      <td>-944000.00</td>\n      <td>-944000.00</td>\n      <td>-944000.00</td>\n      <td>-944000.00</td>\n      <td>-944000.00</td>\n      <td>-994763.38</td>\n      <td>-994763.38</td>\n      <td>-994763.38</td>\n      <td>-994763.38</td>\n      <td>-1082504.75</td>\n    </tr>\n    <tr>\n      <th>cloud_vms</th>\n      <td>0</td>\n      <td>-601000.00</td>\n      <td>-622188.83</td>\n      <td>-638608.88</td>\n      <td>-650894.58</td>\n      <td>-672389.49</td>\n      <td>-694594.25</td>\n      <td>-706406.47</td>\n      <td>-723941.20</td>\n      <td>-740923.95</td>\n      <td>-757903.08</td>\n    </tr>\n    <tr>\n      <th>cloud_storage</th>\n      <td>0</td>\n      <td>-875000.00</td>\n      <td>-959316.03</td>\n      <td>-1026023.77</td>\n      <td>-1097079.00</td>\n      <td>-1185203.69</td>\n      <td>-1280407.13</td>\n      <td>-1339105.42</td>\n      <td>-1444266.50</td>\n      <td>-1539606.05</td>\n      <td>-1625614.88</td>\n    </tr>\n    <tr>\n      <th>cashflows</th>\n      <td>-350000</td>\n      <td>465250.00</td>\n      <td>896824.57</td>\n      <td>921442.01</td>\n      <td>807093.58</td>\n      <td>718890.93</td>\n      <td>587673.58</td>\n      <td>539096.88</td>\n      <td>444572.04</td>\n      <td>325521.83</td>\n      <td>158856.94</td>\n    </tr>\n    <tr>\n      <th>after_tax</th>\n      <td>-350000</td>\n      <td>372200.00</td>\n      <td>717459.66</td>\n      <td>737153.60</td>\n      <td>645674.87</td>\n      <td>575112.74</td>\n      <td>470138.87</td>\n      <td>431277.50</td>\n      <td>355657.63</td>\n      <td>260417.47</td>\n      <td>127085.55</td>\n    </tr>\n  </tbody>\n</table>\n</div>",
       "datasetInfos": [],
       "metadata": {},
       "removedWidgets": [],
       "textData": null,
       "type": "htmlSandbox"
      }
     },
     "output_type": "display_data"
    }
   ],
   "source": [
    "# take a look at the dataframe and see how each call changes the results\n",
    "create_data()"
   ]
  },
  {
   "cell_type": "markdown",
   "metadata": {
    "application/vnd.databricks.v1+cell": {
     "inputWidgets": {},
     "nuid": "fb19c3db-de15-4aec-a510-7fa4fabed5ec",
     "showTitle": false,
     "title": ""
    }
   },
   "source": [
    "# 25000 Simulation\n",
    "This is a bit slow at 25k but not bad at 10k. we can always use the multiple processing package to speed up the run time."
   ]
  },
  {
   "cell_type": "code",
   "execution_count": null,
   "metadata": {
    "application/vnd.databricks.v1+cell": {
     "inputWidgets": {},
     "nuid": "22b5f52e-8921-4120-99ce-64c4221572dd",
     "showTitle": false,
     "title": ""
    }
   },
   "outputs": [
    {
     "data": {
      "text/html": [
       "<style scoped>\n",
       "  .ansiout {\n",
       "    display: block;\n",
       "    unicode-bidi: embed;\n",
       "    white-space: pre-wrap;\n",
       "    word-wrap: break-word;\n",
       "    word-break: break-all;\n",
       "    font-family: \"Source Code Pro\", \"Menlo\", monospace;;\n",
       "    font-size: 13px;\n",
       "    color: #555;\n",
       "    margin-left: 4px;\n",
       "    line-height: 19px;\n",
       "  }\n",
       "</style>\n",
       "<div class=\"ansiout\"></div>"
      ]
     },
     "metadata": {
      "application/vnd.databricks.v1+output": {
       "addedWidgets": {},
       "arguments": {},
       "data": "<div class=\"ansiout\"></div>",
       "datasetInfos": [],
       "metadata": {},
       "removedWidgets": [],
       "type": "html"
      }
     },
     "output_type": "display_data"
    }
   ],
   "source": [
    "# collect data for before and after tax npv and irr for years 3, 5, 10\n",
    "# you can run NPV, IRR for both before and after tax\n",
    "# in this case, I will just be using after tax but feel free to use whatever method you want to use\n",
    "\n",
    "# npv_irr_10 = []\n",
    "npv_irr_after_tax_10 = []\n",
    "# npv_irr_5 = []\n",
    "npv_irr_after_tax_5 = []\n",
    "# npv_irr_3 = []\n",
    "npv_irr_after_tax_3 = []\n",
    "for _iter in range(1, 25001):\n",
    "    df = create_data()\n",
    "    # for a static hurdle rate, risk = hurdle_rate\n",
    "    risk = risk_adjusted_hurdle()\n",
    "#     npv_irr_10.append(\n",
    "#         (\n",
    "#             round(npf.npv(risk, df.loc[\"cashflows\", :].values[1:11]) + df.loc[\"cashflows\", \"year_0\"], 2),\n",
    "#             round(npf.irr(df.loc[\"cashflows\", :].values[0:11]), 2) * 100\n",
    "#         )\n",
    "#     )\n",
    "    npv_irr_after_tax_10.append(\n",
    "        (\n",
    "            round(npf.npv(risk, df.loc[\"after_tax\", :].values[1:11]) + df.loc[\"after_tax\", \"year_0\"], 2),\n",
    "            round(npf.irr(df.loc[\"after_tax\", :].values[0:11]), 2) * 100\n",
    "        )\n",
    "    )\n",
    "#     npv_irr_5.append(\n",
    "#         (\n",
    "#             round(npf.npv(risk, df.loc[\"cashflows\", :].values[1:6]) + df.loc[\"cashflows\", \"year_0\"], 2),\n",
    "#             round(npf.irr(df.loc[\"cashflows\", :].values[0:6]), 2) * 100\n",
    "#         )\n",
    "#     )\n",
    "    npv_irr_after_tax_5.append(\n",
    "        (\n",
    "            round(npf.npv(risk, df.loc[\"after_tax\", :].values[1:6]) + df.loc[\"after_tax\", \"year_0\"], 2),\n",
    "            round(npf.irr(df.loc[\"after_tax\", :].values[0:6]), 2) * 100\n",
    "        )\n",
    "    )\n",
    "#     npv_irr_3.append(\n",
    "#         (\n",
    "#             round(npf.npv(risk, df.loc[\"cashflows\", :].values[1:4]) + df.loc[\"cashflows\", \"year_0\"], 2),\n",
    "#             round(npf.irr(df.loc[\"cashflows\", :].values[0:4]), 2) * 100\n",
    "#         )\n",
    "#     )\n",
    "    npv_irr_after_tax_3.append(\n",
    "        (\n",
    "            round(npf.npv(risk, df.loc[\"after_tax\", :].values[1:4]) + df.loc[\"after_tax\", \"year_0\"], 2),\n",
    "            round(npf.irr(df.loc[\"after_tax\", :].values[0:4]), 2) * 100\n",
    "        )\n",
    "    )"
   ]
  },
  {
   "cell_type": "code",
   "execution_count": null,
   "metadata": {
    "application/vnd.databricks.v1+cell": {
     "inputWidgets": {},
     "nuid": "050cfa6b-23b8-459a-a7de-8a2ec90d83da",
     "showTitle": false,
     "title": ""
    }
   },
   "outputs": [
    {
     "data": {
      "text/html": [
       "<style scoped>\n",
       "  .ansiout {\n",
       "    display: block;\n",
       "    unicode-bidi: embed;\n",
       "    white-space: pre-wrap;\n",
       "    word-wrap: break-word;\n",
       "    word-break: break-all;\n",
       "    font-family: \"Source Code Pro\", \"Menlo\", monospace;;\n",
       "    font-size: 13px;\n",
       "    color: #555;\n",
       "    margin-left: 4px;\n",
       "    line-height: 19px;\n",
       "  }\n",
       "</style>\n",
       "<div class=\"ansiout\"></div>"
      ]
     },
     "metadata": {
      "application/vnd.databricks.v1+output": {
       "addedWidgets": {},
       "arguments": {},
       "data": "<div class=\"ansiout\"></div>",
       "datasetInfos": [],
       "metadata": {},
       "removedWidgets": [],
       "type": "html"
      }
     },
     "output_type": "display_data"
    }
   ],
   "source": [
    "def get_results_plot(npv_irr_array, num_years, before_tax=True):\n",
    "    \"\"\"\n",
    "    Plot the distributions of NPV for the given years and factor in tax or not.\n",
    "    :param npv_irr_array: array containing a tuple of npv, irr\n",
    "    :param num_years: in our case, I only look at 3, 5, 10\n",
    "    :para before_tax: if you want after tax calculations, you would specify that here.\n",
    "    \"\"\"\n",
    "    npv = list(map(operator.itemgetter(0), npv_irr_array))\n",
    "    irr = list(map(operator.itemgetter(1), npv_irr_array))\n",
    "\n",
    "    if before_tax:\n",
    "        naming = \"before\"\n",
    "    else:\n",
    "        naming = \"after\"\n",
    "\n",
    "    plt.figure(figsize=(15, 10))\n",
    "    plt.xlabel(\"NPV in USD\")\n",
    "    plt.ylabel(\"Frequency\")\n",
    "    plt.title(f\"{num_years} Year {naming} Tax NPV\")\n",
    "    N, bins, patches = plt.hist(npv, bins=85, density=True, stacked=True)\n",
    "    \n",
    "    # pick 2 colors for NPV < 0 and > 0; red and green/black looked bad in my opinion\n",
    "    for i in range(0, len(bins) - 1):\n",
    "        if patches[i].xy[0] < 0:\n",
    "            patches[i].set_facecolor(\"black\")\n",
    "        else:\n",
    "            patches[i].set_facecolor(\"blue\")\n",
    "    \n",
    "    plt.show()\n",
    "    return npv, irr"
   ]
  },
  {
   "cell_type": "markdown",
   "metadata": {
    "application/vnd.databricks.v1+cell": {
     "inputWidgets": {},
     "nuid": "d891a664-af10-42ce-93b4-ca871ca2b07f",
     "showTitle": false,
     "title": ""
    }
   },
   "source": [
    "# Before Tax NPV"
   ]
  },
  {
   "cell_type": "code",
   "execution_count": null,
   "metadata": {
    "application/vnd.databricks.v1+cell": {
     "inputWidgets": {},
     "nuid": "3319fbfe-0f27-4991-ad50-829e6c3a7c6f",
     "showTitle": false,
     "title": ""
    }
   },
   "outputs": [
    {
     "data": {
      "text/html": [
       "<style scoped>\n",
       "  .ansiout {\n",
       "    display: block;\n",
       "    unicode-bidi: embed;\n",
       "    white-space: pre-wrap;\n",
       "    word-wrap: break-word;\n",
       "    word-break: break-all;\n",
       "    font-family: \"Source Code Pro\", \"Menlo\", monospace;;\n",
       "    font-size: 13px;\n",
       "    color: #555;\n",
       "    margin-left: 4px;\n",
       "    line-height: 19px;\n",
       "  }\n",
       "</style>\n",
       "<div class=\"ansiout\"></div>"
      ]
     },
     "metadata": {
      "application/vnd.databricks.v1+output": {
       "addedWidgets": {},
       "arguments": {},
       "data": "<div class=\"ansiout\"></div>",
       "datasetInfos": [],
       "metadata": {},
       "removedWidgets": [],
       "type": "html"
      }
     },
     "output_type": "display_data"
    }
   ],
   "source": [
    "# npv_3, irr_3 = get_results_plot(npv_irr_3, \"3\")"
   ]
  },
  {
   "cell_type": "code",
   "execution_count": null,
   "metadata": {
    "application/vnd.databricks.v1+cell": {
     "inputWidgets": {},
     "nuid": "bae39e7d-4b4c-4ffd-900a-2cf4b871f58d",
     "showTitle": false,
     "title": ""
    }
   },
   "outputs": [
    {
     "data": {
      "text/html": [
       "<style scoped>\n",
       "  .ansiout {\n",
       "    display: block;\n",
       "    unicode-bidi: embed;\n",
       "    white-space: pre-wrap;\n",
       "    word-wrap: break-word;\n",
       "    word-break: break-all;\n",
       "    font-family: \"Source Code Pro\", \"Menlo\", monospace;;\n",
       "    font-size: 13px;\n",
       "    color: #555;\n",
       "    margin-left: 4px;\n",
       "    line-height: 19px;\n",
       "  }\n",
       "</style>\n",
       "<div class=\"ansiout\"></div>"
      ]
     },
     "metadata": {
      "application/vnd.databricks.v1+output": {
       "addedWidgets": {},
       "arguments": {},
       "data": "<div class=\"ansiout\"></div>",
       "datasetInfos": [],
       "metadata": {},
       "removedWidgets": [],
       "type": "html"
      }
     },
     "output_type": "display_data"
    }
   ],
   "source": [
    "# npv_5, irr_5 = get_results_plot(npv_irr_5, \"5\")"
   ]
  },
  {
   "cell_type": "code",
   "execution_count": null,
   "metadata": {
    "application/vnd.databricks.v1+cell": {
     "inputWidgets": {},
     "nuid": "1e330563-b860-40b6-9578-49aba56a50af",
     "showTitle": false,
     "title": ""
    }
   },
   "outputs": [
    {
     "data": {
      "text/html": [
       "<style scoped>\n",
       "  .ansiout {\n",
       "    display: block;\n",
       "    unicode-bidi: embed;\n",
       "    white-space: pre-wrap;\n",
       "    word-wrap: break-word;\n",
       "    word-break: break-all;\n",
       "    font-family: \"Source Code Pro\", \"Menlo\", monospace;;\n",
       "    font-size: 13px;\n",
       "    color: #555;\n",
       "    margin-left: 4px;\n",
       "    line-height: 19px;\n",
       "  }\n",
       "</style>\n",
       "<div class=\"ansiout\"></div>"
      ]
     },
     "metadata": {
      "application/vnd.databricks.v1+output": {
       "addedWidgets": {},
       "arguments": {},
       "data": "<div class=\"ansiout\"></div>",
       "datasetInfos": [],
       "metadata": {},
       "removedWidgets": [],
       "type": "html"
      }
     },
     "output_type": "display_data"
    }
   ],
   "source": [
    "# npv_10, irr_10 = get_results_plot(npv_irr_10, \"10\")"
   ]
  },
  {
   "cell_type": "markdown",
   "metadata": {
    "application/vnd.databricks.v1+cell": {
     "inputWidgets": {},
     "nuid": "315a899f-5f05-4d7c-93c0-4e7cd7d31696",
     "showTitle": false,
     "title": ""
    }
   },
   "source": [
    "# After Tax NPV"
   ]
  },
  {
   "cell_type": "code",
   "execution_count": null,
   "metadata": {
    "application/vnd.databricks.v1+cell": {
     "inputWidgets": {},
     "nuid": "c870903c-a8eb-4d5b-8a4a-2a6f9f0e3a6c",
     "showTitle": false,
     "title": ""
    }
   },
   "outputs": [
    {
     "data": {
      "image/png": "[encoded data removed]"
     },
     "metadata": {
      "application/vnd.databricks.v1+output": {
       "addedWidgets": {},
       "arguments": {},
       "data": "data:image/png;base64,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",
       "datasetInfos": [],
       "metadata": {
        "imageDimensions": {
         "height": 604,
         "width": 878
        }
       },
       "removedWidgets": [],
       "type": "image"
      },
      "image/png": {
       "height": 604,
       "width": 878
      }
     },
     "output_type": "display_data"
    }
   ],
   "source": [
    "npv_3_after, irr_3_after = get_results_plot(npv_irr_after_tax_3, \"3\", before_tax=False)"
   ]
  },
  {
   "cell_type": "code",
   "execution_count": null,
   "metadata": {
    "application/vnd.databricks.v1+cell": {
     "inputWidgets": {},
     "nuid": "e4265903-ebb3-491d-a03e-bc024a714cab",
     "showTitle": false,
     "title": ""
    }
   },
   "outputs": [
    {
     "data": {
      "image/png": "[encoded data removed]"
     },
     "metadata": {
      "application/vnd.databricks.v1+output": {
       "addedWidgets": {},
       "arguments": {},
       "data": "data:image/png;base64,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",
       "datasetInfos": [],
       "metadata": {
        "imageDimensions": {
         "height": 604,
         "width": 878
        }
       },
       "removedWidgets": [],
       "type": "image"
      },
      "image/png": {
       "height": 604,
       "width": 878
      }
     },
     "output_type": "display_data"
    }
   ],
   "source": [
    "npv_5_after, irr_5_after = get_results_plot(npv_irr_after_tax_5, \"5\", before_tax=False)"
   ]
  },
  {
   "cell_type": "code",
   "execution_count": null,
   "metadata": {
    "application/vnd.databricks.v1+cell": {
     "inputWidgets": {},
     "nuid": "4b22440b-d1a6-4e36-95bf-7263a1881da8",
     "showTitle": false,
     "title": ""
    }
   },
   "outputs": [
    {
     "data": {
      "image/png": "[encoded data removed]"
     },
     "metadata": {
      "application/vnd.databricks.v1+output": {
       "addedWidgets": {},
       "arguments": {},
       "data": "data:image/png;base64,iVBORw0KGgoAAAANSUhEUgAAA3gAAAJcCAYAAACrJAbaAAAAOXRFWHRTb2Z0d2FyZQBNYXRwbG90bGliIHZlcnNpb24zLjQuMiwgaHR0cHM6Ly9tYXRwbG90bGliLm9yZy8rg+JYAAAACXBIWXMAAAsTAAALEwEAmpwYAAAoaklEQVR4nO3debhld1kn+u9LiplAWlOtmASCdhgig8Qy0NI8RBA7QUm6RTQRULiBeFsRHFDRRkBsuy96ES/doATEMCgzzY0QRBQQrjKkwpwEJDKYCrQpAiRMHQy894+9C08Op+rsUznrDL/z+TzPfrLXWr+99nsq69nnfPdvWNXdAQAAYPu70WYXAAAAwPoQ8AAAAAYh4AEAAAxCwAMAABiEgAcAADAIAQ8AAGAQAh4ALFNVd6qq91XVF6rqcZtdDwAsSsADYM2q6rFVtbeqrq2q81Y4/oCq+nBVfbmq3lJVtz/IeV5SVX+ybN/9quqqqrrtROUv4leTvKW7j+zuZ1XVJ6rqB9fr5FX1xSWPr1fVV5ZsP2yd3qOr6oNVdaMl+/7Lgf9fVXX8vM2B9/1EVT1xfuzDVfV/rHDOx1fV3vWoD4BpCHgAHI5PJfkvSV6w/EBVHZ3kNUl+M8m3JNmb5OUHOc/jk5xWVQ+cv/ZmSZ6X5Je7+9PrUWhV7TqMl90+ycXr9P61NGQlSXff6sAjyT8mefCSfX+6Hu879x1JzlylzVHzOs5K8uSqOjXJC5P81AptHzE/BsAWJeABsGbd/Zrufm2Sq1Y4/KNJLu7uV3b3/07y1CT3qKo7r3Ceq5L8fJJzq+qWSZ6S5B+6+7yqundV/V1Vfb6q3l9Vpxx4XVU9qqounQ+h/FhV/cySY6dU1b6q+rWq+l9J/mTZ26aqvquq3jzvKfxMVf1pVR01P/bmJD+Q5H/Me7ZemuR2Sf58vv2r83aHqu+tVfU7VfW3Sb6c5DsX+XetqpOr6h3zc366qv5HVd1kfuz757UeN9++R1V9bqV/1yV+N8lvLRJyu/sdmYXauyZ5cZJ/t7TntapOTHL3JC9d5GcBYHMIeACst+9O8v4DG939pST/MN//Tbr7lUnek1lwOCfJOVV1TJLXZ9ZL+C1JnpDk1VW1e/6yK5P8SJJbJ3lUkmdW1UlLTvvt89fdfn7O5SrJf8ush+suSY7LLIimu++f5O1JHjvvUTsr1+9l+90F6ktmvV3nJDkyyScP8e+11NeS/GKSo5P82yQPSPKz87r+Lslzk7ywqm6e5CVJfrO7P3yI870myTVJHnmoN533Mt4ns/9H7+3ufUneMv8Zlv48F3T3Zxb8WQDYBNsy4FXVC6rqyqr60Dqd73ZV9Zfzb4Mvqarj1+O8ADvUrZJcvWzf1ZkFnYP52ST3T/K07r48ycMzCxMXdPfXu/tNmQ31fFCSdPfru/sfeuZvkvxlkvsuOd/Xkzylu6/t7q8sf7Puvqy73zQ/vj/J7ye53xp+xkPWN3ded1/c3dd19z8vctLuvqi73zl/zScyC3RL63pqktskeXeSK5I8e7VTZjZU9jcP9ASu4DNJPpvk+Ume2N1/Pd//wswD3nyI6cNieCbAlrctA16S85Kcuo7ne1GS3+vuuyQ5ObNvhgE4PF/MrGdtqVsn+cLBXtDd/5RZ0Dgw7+32SR46H6r4+ar6fJJ/l+S2SVJVp1XVO6vqs/NjD8qs1+uA/fPhoSuqqm+rqpdV1RVVdU1mvWFHH6z9Cg5Z39zlazjfgbruWFWvq6r/Na/rvy6tax4Uz8tsGOUzurtXO2d3X5BkX5KfOUiTo7v7X3X3Xbr7WUv2vybJbavq3klOSXKLzHotAdjCtmXA6+63ZfZt4zfM51P8RVVdVFVvX2VOwtLXnZhk1/zb13T3F7v7y+tfNcCOcXGSexzYmM+t+66sbdGSy5O8uLuPWvK4ZXf/X1V10ySvTvJ/J/m27j4qyQWZDbs8YLXg81/nbe7W3bfOrEeuDtF++fkOWt8aaljJHyb5cJIT5nX9xtK65kNDn5LZvMJnzP8tFvGf5+e6xaKFzH8XviqzxVYekeRl3f3VRV8PwObYlgHvIM5N8vPd/b2ZzYV4zoKvu2OSz1fVa6rqvVX1e1V1xGRVAgygqnbNV7w8IskRVXWzJQt5/M8kd62qh8zbPDnJB1aZK7bcS5I8uKr+fVUdOP8pVXVskpskuWmS/Umuq6rTkvzQGn+EIzPrabx6Hpp+ZZX2/5TrL5RyqPpuiCMzmzP3xfkXlf/pwIGqqsx67/44ydlJPp3ktxc5aXe/NcmHkvz0Gut5YZKfSPKQGJ4JsC0MEfCq6lZJvj/JK6vqfZnNWTgwjOdHq+pDKzzeOH/5rszmbTwhyfdl9gv8kRv9MwBsM09K8pUkT8ys9+sr832Zz2l7SJLfSfK5JPfK6kv1X898Ht4ZmfU67c+sx+xXktyou7+Q5HFJXjE//08mOX+N9f9WkpMymxv4+syGIx7Kf0vypPlwzCccqr411rHcEzL7eb6Q2e0ilt5e4nFJ/nVmC6t0ZovLPKqq7vtNZ1nZkzJbEGYt3pbZv9G+7r5wja8FYBPUAsP3t6T5Qiiv6+67VtWtk3yku9d8U9z53IKnd/f95tuPSHLv7v65dS0YAABgYkP04HX3NUk+XlUPTb6x3PM9VnnZARcmOWrJ0tb3T3LJBGUCAABMalsGvJrddPYdSe5Us5vZnp3Z8s1nV9X7M5vIf8Yi5+rur2U2JOavq+qDmU1mf940lQMAAExn2w7RBAAA4Pq2ZQ8eAAAA32zX6k22lqOPPrqPP/74zS4DAABgU1x00UWf6e7dKx3bdgHv+OOPz969eze7DAAAgE1RVZ882LHJhmhW1Quq6sqq+tBBjj+sqj5QVR+sqr9bw6qXAAAArGDKOXjnJTn1EMc/nuR+3X23JL+d5NwJawEAABjeZEM0u/tt85uRH+z43y3ZfGeSY6eqBQAAYCfYKqtonp3kDQc7WFXnVNXeqtq7f//+DSwLAABg+9j0gFdVP5BZwPu1g7Xp7nO7e09379m9e8XFYgAAAHa8TV1Fs6runuT5SU7r7qs2sxYAAIDtbtN68Krqdklek+QR3f33m1UHAADAKCbrwauqlyY5JcnRVbUvyVOS3DhJuvuPkjw5ybcmeU5VJcl13b1nqnoAAABGN+UqmmetcvzRSR491fsDAADsNJu+yAoAAADrQ8ADAAAYhIAHAAAwCAEPAABgEAIeAADAIAQ8AACAQQh4AAAAgxDwAAAABiHgAQAADELAAwAAGISABwAAMAgBDwAAYBACHgAAwCAEPAAAgEEIeAAAAIPYtdkFALD5qlZv0z19HQDADaMHDwAAYBACHgAAwCAEPAAAgEEIeAAAAIMQ8AAAAAYh4AEAAAxCwAMAABiEgAcAADAIAQ8AAGAQAh4AAMAgBDwAAIBBCHgAAACDEPAAAAAGIeABAAAMQsADAAAYxK7NLgCAcVQd+nj3xtQBADuVHjwAAIBBCHgAAACDEPAAAAAGYQ4eANvOanP9EvP9ANiZBDwANoxgBgDTMkQTAABgEAIeAADAIAQ8AACAQQh4AAAAgxDwAAAABiHgAQAADELAAwAAGISABwAAMAgBDwAAYBACHgAAwCAEPAAAgEHs2uwCAGCpqs2uAAC2Lz14AAAAgxDwAAAABmGIJgA71iLDQbunrwMA1osePAAAgEHowQOAQ9DLB8B2ogcPAABgEAIeAADAIAQ8AACAQQh4AAAAgxDwAAAABiHgAQAADELAAwAAGISABwAAMAgBDwAAYBACHgAAwCAEPAAAgEEIeAAAAIMQ8AAAAAYh4AEAAAxi12YXAMC0qrbWeQCA6ejBAwAAGISABwAAMAgBDwAAYBACHgAAwCAEPAAAgEEIeAAAAIMQ8AAAAAYh4AEAAAxCwAMAABiEgAcAADAIAQ8AAGAQAh4AAMAgJgt4VfWCqrqyqj50kONVVc+qqsuq6gNVddJUtQBsR1WrPwAAlpqyB++8JKce4vhpSU6YP85J8ocT1gLADiMgA7ATTRbwuvttST57iCZnJHlRz7wzyVFVddup6gEAABjdZs7BOybJ5Uu29833fZOqOqeq9lbV3v37929IcQAAANvNtlhkpbvP7e493b1n9+7dm10OAADAlrSZAe+KJMct2T52vg8AAIDDsJkB7/wkPzVfTfPeSa7u7k9vYj0AAADb2q6pTlxVL01ySpKjq2pfkqckuXGSdPcfJbkgyYOSXJbky0keNVUtAAAAO8FkAa+7z1rleCf5uaneHwAAYKfZFousAAAAsDoBDwAAYBCTDdEE2KmqVm/TPX0dAMDOowcPAABgEAIeAADAIAQ8AACAQQh4AAAAgxDwAAAABmEVTYBtbJEVOwGAnUMPHgAAwCAEPAAAgEEIeAAAAIMQ8AAAAAYh4AEAAAxCwAMAABiEgAcAADAIAQ8AAGAQAh4AAMAgBDwAAIBBCHgAAACDEPAAAAAGsWuzCwCAnaBq9Tbd09cBwNj04AEAAAxCwAMAABiEgAcAADAIAQ8AAGAQFlkB2ASLLLgBALBWevAAAAAGIeABAAAMQsADAAAYhIAHAAAwCAEPAABgEFbRBFgDq18CAFuZHjwAAIBBCHgAAACDEPAAAAAGIeABAAAMQsADAAAYhIAHAAAwCLdJAIAtYpHbcHRPXwcA25cePAAAgEEIeAAAAIMQ8AAAAAZhDh4A3ECLzJ0DgI2gBw8AAGAQAh4AAMAgBDwAAIBBCHgAAACDEPAAAAAGIeABAAAMQsADAAAYhIAHAAAwCAEPAABgEAIeAADAIAQ8AACAQQh4AAAAgxDwAAAABiHgAQAADELAAwAAGISABwAAMIhdm10AALC4qtXbdE9fBwBbkx48AACAQQh4AAAAgxDwAAAABiHgAQAADELAAwAAGISABwAAMAgBDwAAYBACHgAAwCAEPAAAgEEIeAAAAIMQ8AAAAAYh4AEAAAxi12YXAABsvKrV23RPXwcA60sPHgAAwCAEPAAAgEEIeAAAAIMQ8AAAAAYh4AEAAAxCwAMAABiEgAcAADCISQNeVZ1aVR+pqsuq6okrHL9dVb2lqt5bVR+oqgdNWQ8AAMDIJgt4VXVEkmcnOS3JiUnOqqoTlzV7UpJXdPc9k5yZ5DlT1QMAADC6KXvwTk5yWXd/rLu/muRlSc5Y1qaT3Hr+/DZJPjVhPQAAAEObMuAdk+TyJdv75vuWemqSh1fVviQXJPn5lU5UVedU1d6q2rt///4pagUAANj2NnuRlbOSnNfdxyZ5UJIXV9U31dTd53b3nu7es3v37g0vEtgZqlZ/AABsZVMGvCuSHLdk+9j5vqXOTvKKJOnudyS5WZKjJ6wJAABgWFMGvAuTnFBVd6iqm2S2iMr5y9r8Y5IHJElV3SWzgGcMJgAAwGGYLOB193VJHpvkjUkuzWy1zIur6mlVdfq82S8neUxVvT/JS5M8srt7qpoAAABGtmvKk3f3BZktnrJ035OXPL8kyX2mrAEAAGCn2OxFVgAAAFgnAh4AAMAgBDwAAIBBTDoHDwDYeO7ZCLBz6cEDAAAYhIAHAAAwCAEPAABgEAIeAADAIAQ8AACAQQh4AAAAgxDwAAAABiHgAQAADELAAwAAGISABwAAMAgBDwAAYBACHgAAwCAEPAAAgEEIeAAAAIMQ8AAAAAYh4AEAAAxCwAMAABiEgAcAADAIAQ8AAGAQAh4AAMAgBDwAAIBBCHgAAACDEPAAAAAGIeABAAAMYtdmFwBwQ1Wt3qZ7+joAADabgAfsCIuEQACA7U7AAwBWpHccYPsxBw8AAGAQAh4AAMAgBDwAAIBBCHgAAACDEPAAAAAGIeABAAAMQsADAAAYhIAHAAAwCAEPAABgEAIeAADAIAQ8AACAQQh4AAAAgxDwAAAABiHgAQAADELAAwAAGISABwAAMAgBDwAAYBACHgAAwCAEPAAAgEEIeAAAAIMQ8AAAAAYh4AEAAAxCwAMAABjErs0uAADYvqpWb9M9fR0AzOjBAwAAGISABwAAMAgBDwAAYBALBbyqutvUhQAAAHDDLNqD95yqendV/WxV3WbSigAAADgsCwW87r5vkoclOS7JRVX1Z1X1wEkrAwAAYE0WnoPX3R9N8qQkv5bkfkmeVVUfrqofnao4AAAAFrfoHLy7V9Uzk1ya5P5JHtzdd5k/f+aE9QEAALCgRW90/t+TPD/Jb3T3Vw7s7O5PVdWTJqkMAACANVk04P1wkq9099eSpKpulORm3f3l7n7xZNUBAACwsEXn4P1Vkpsv2b7FfB8AAABbxKIB72bd/cUDG/Pnt5imJAAAAA7HogHvS1V10oGNqvreJF85RHsAAAA22KJz8H4hySur6lNJKsm3J/mJqYoCAHaWqtXbdE9fB8B2t1DA6+4Lq+rOSe403/WR7v7n6coCAABgrRbtwUuS70ty/Pw1J1VVuvtFk1QFAADAmi0U8KrqxUm+K8n7knxtvruTCHjApBYZtgUAwMyiPXh7kpzYbfQ7AADAVrXoKpofymxhFQAAALaoRXvwjk5ySVW9O8m1B3Z29+mTVAUAAMCaLRrwnjplEQAAANxwi94m4W+q6vZJTujuv6qqWyQ5YtrSAAAAWIuF5uBV1WOSvCrJc+e7jkny2olqAgAA4DAsusjKzyW5T5JrkqS7P5rkX09VFAAAAGu3aMC7tru/emCjqnZldh88AAAAtohFA97fVNVvJLl5VT0wySuT/Pl0ZQEAALBWiwa8JybZn+SDSX4myQVJnrTai6rq1Kr6SFVdVlVPPEibH6+qS6rq4qr6s0ULBwAA4PoWXUXz60meN38spKqOSPLsJA9Msi/JhVV1fndfsqTNCUl+Pcl9uvtzVWVeHwAAwGFaKOBV1cezwpy77v7OQ7zs5CSXdffH5ud4WZIzklyypM1jkjy7uz83P9+VC9YNAADAMove6HzPkuc3S/LQJN+yymuOSXL5ku19Se61rM0dk6Sq/jaz++o9tbv/YvmJquqcJOckye1ud7sFSwYAANhZFpqD191XLXlc0d1/kOSH1+H9dyU5IckpSc5K8ryqOmqF9z+3u/d0957du3evw9sCW0HV6g8AABa36BDNk5Zs3iizHr3VXntFkuOWbB8737fUviTv6u5/TvLxqvr7zALfhYvUBQAAwL9YdIjmM5Y8vy7JJ5L8+CqvuTDJCVV1h8yC3ZlJfnJZm9dm1nP3J1V1dGZDNj+2YE0AAAAssegqmj+w1hN393VV9dgkb8xsft0Luvviqnpakr3dff782A9V1SVJvpbkV7r7qrW+FwAAAEl1f9PimN/cqOqXDnW8u39/3SpaxZ49e3rv3r0b9XbAhMyxg51hgT811u3zYJH3Atjuquqi7t6z0rG1rKL5fUnOn28/OMm7k3z0hpcHAADAelg04B2b5KTu/kKSVNVTk7y+ux8+VWEAAACszaIB79uSfHXJ9lfn+wAADslwbICNs2jAe1GSd1fV/5xv/4ckL5ykIgAAAA7Loqto/k5VvSHJfee7HtXd752uLAAAANbqRmtoe4sk13T3/5Nk3/z+dgAAAGwRCwW8qnpKkl9L8uvzXTdO8pKpigIAAGDtFu3B+49JTk/ypSTp7k8lOXKqogAAAFi7RQPeV3t2R/ROkqq65XQlAQAAcDgWDXivqKrnJjmqqh6T5K+SPG+6sgAAAFirVVfRrKpK8vIkd05yTZI7JXlyd79p4toAAABYg1UDXnd3VV3Q3XdLItQBAABsUYsO0XxPVX3fpJUAAABwgyx0o/Mk90ry8Kr6RGYraVZmnXt3n6owAAAA1uaQAa+qbtfd/5jk329QPQAAABym1XrwXpvkpO7+ZFW9ursfsgE1AQAAcBhWm4NXS55/55SFAAAAcMOsFvD6IM8BAADYYlYbonmPqroms568m8+fJ/+yyMqtJ60OAACAhR0y4HX3ERtVCAAAADfMovfBAwAAYItb9D54AGtStXobAADWlx48AACAQQh4AAAAgxDwAAAABiHgAQAADELAAwAAGISABwAAMAgBDwAAYBACHgAAwCAEPAAAgEEIeAAAAIMQ8AAAAAYh4AEAAAxCwAMAABiEgAcAADAIAQ8AAGAQAh4AAMAgBDwAAIBBCHgAAACDEPAAAAAGIeABAAAMYtdmFwAAsF6qVm/TPX0dAJtFDx4AAMAgBDwAAIBBCHgAAACDEPAAAAAGYZEVYM0WWcQAAICNpwcPAABgEAIeAADAIAQ8AACAQQh4AAAAgxDwAAAABiHgAQAADELAAwAAGISABwAAMAgBDwAAYBACHgAAwCB2bXYBAAAbqWr1Nt3T1wEwBT14AAAAgxDwAAAABiHgAQAADELAAwAAGIRFVoDrWWTxAQAAtiY9eAAAAIMQ8AAAAAYh4AEAAAxCwAMAABiEgAcAADAIAQ8AAGAQAh4AAMAgBDwAAIBBCHgAAACDEPAAAAAGIeABAAAMQsADAAAYhIAHAAAwCAEPAABgEAIeAADAIAQ8AACAQUwa8Krq1Kr6SFVdVlVPPES7h1RVV9WeKesBAAAY2WQBr6qOSPLsJKclOTHJWVV14grtjkzy+CTvmqoWAACAnWDKHryTk1zW3R/r7q8meVmSM1Zo99tJnp7kf09YCwAAwPCmDHjHJLl8yfa++b5vqKqTkhzX3a8/1Imq6pyq2ltVe/fv37/+lQIAAAxg0xZZqaobJfn9JL+8WtvuPre793T3nt27d09fHAAAwDY0ZcC7IslxS7aPne874Mgkd03y1qr6RJJ7JznfQisAAACHZ8qAd2GSE6rqDlV1kyRnJjn/wMHuvrq7j+7u47v7+CTvTHJ6d++dsCYAAIBhTRbwuvu6JI9N8sYklyZ5RXdfXFVPq6rTp3pfAIAbqmr1B8BWtGvKk3f3BUkuWLbvyQdpe8qUtQAAAIxu0xZZAQAAYH0JeAAAAIMQ8AAAAAYh4AEAAAxCwAMAABiEgAcAADAIAQ8AAGAQAh4AAMAgBDwAAIBB7NrsAoCNU7XZFQAAMCU9eAAAAIPQgwcAcBhWGxXRvTF1ACylBw8AAGAQAh4AAMAgBDwAAIBBCHgAAACDEPAAAAAGIeABAAAMQsADAAAYhIAHAAAwCAEPAABgEAIeAADAIAQ8AACAQQh4AAAAgxDwAAAABiHgAQAADELAAwAAGISABwAAMIhdm10AsD6qNrsCAAA2m4AHADCBRb54656+DmBnMUQTAABgEAIeAADAIAQ8AACAQQh4AAAAgxDwAAAABiHgAQAADELAAwAAGISABwAAMAgBDwAAYBACHgAAwCAEPAAAgEEIeAAAAIMQ8AAAAAYh4AEAAAxi12YXAKyuarMrAABgO9CDBwAAMAgBDwAAYBACHgAAwCAEPAAAgEEIeAAAAIMQ8AAAAAYh4AEAAAxCwAMAABiEgAcAADAIAQ8AAGAQAh4AAMAgBDwAAIBBCHgAAACD2LXZBcBOV7XZFQAAMAoBDwBgC1vki8Du6esAtgdDNAEAAAYh4AEAAAxCwAMAABiEgAcAADAIi6wAAGwSKykD600PHgAAwCAEPAAAgEEIeAAAAIMQ8AAAAAYh4AEAAAxCwAMAABiEgAcAADAIAQ8AAGAQAh4AAMAgBDwAAIBBCHgAAACDEPAAAAAGIeABAAAMQsADAAAYxK7NLgAAgBumavU23dPXAWw+PXgAAACDmDTgVdWpVfWRqrqsqp64wvFfqqpLquoDVfXXVXX7KesBAAAY2WQBr6qOSPLsJKclOTHJWVV14rJm702yp7vvnuRVSX53qnoAAABGN2UP3slJLuvuj3X3V5O8LMkZSxt091u6+8vzzXcmOXbCegAAAIY2ZcA7JsnlS7b3zfcdzNlJ3rDSgao6p6r2VtXe/fv3r2OJAAAA49gSi6xU1cOT7Enyeysd7+5zu3tPd+/ZvXv3xhYHAACwTUx5m4Qrkhy3ZPvY+b7rqaofTPKfk9yvu6+dsB4AAIChTdmDd2GSE6rqDlV1kyRnJjl/aYOqumeS5yY5vbuvnLAWAIAdrWr1B7D9TRbwuvu6JI9N8sYklyZ5RXdfXFVPq6rT581+L8mtkryyqt5XVecf5HQAAACsYsohmunuC5JcsGzfk5c8/8Ep3x8AAGAn2RKLrAAAAHDDTdqDB5jTAADAxtGDBwAAMAgBDwAAYBACHgAAwCAEPAAAgEEIeAAAAIMQ8AAAAAYh4AEAAAxCwAMAABiEgAcAADAIAQ8AAGAQAh4AAMAgBDwAAIBBCHgAAACDEPAAAAAGsWuzC4DtrGqzKwAAgH+hBw8AAGAQevDgIPTOAbDTLPK7r3v6OoDDpwcPAABgEAIeAADAIAQ8AACAQQh4AAAAg7DICjuSBVQA4PCs1+9Qi7XANPTgAQAADELAAwAAGISABwAAMAgBDwAAYBACHgAAwCAEPAAAgEEIeAAAAIMQ8AAAAAYh4AEAAAxCwAMAABjErs0uAACAnadq9Tbd09cBo9GDBwAAMAgBDwAAYBACHgAAwCAEPAAAgEEIeAAAAIMQ8AAAAAYh4AEAAAxCwAMAABiEgAcAADAIAQ8AAGAQuza7AAAAWEnV6m26p68DthM9eAAAAIPQg8dwFvm2DwAARqQHDwAAYBB68NhW9M4BAMDB6cEDAAAYhIAHAAAwCEM02TIMvwQA1sqtFOD69OABAAAMQsADAAAYhIAHAAAwCAEPAABgEAIeAADAIAQ8AACAQQh4AAAAgxDwAAAABiHgAQAADGLXZhcAAABTqlq9Tff0dcBG0IMHAAAwCAEPAABgEIZocoMZ9gAAAFuDHjwAAIBBCHgAAACDEPAAAAAGYQ4eAAA73iJrCixikXUHrF/AlAQ8NsR6fWgCAAAHJ+BxSIIZAABsHwIeAACsE1+Os9kssgIAADAIAQ8AAGAQhmgCAMAWY6VNDpeAt4MZIw4AAGMR8AAAYBvSy8dKBDwAABiUELjzCHjbkKGVAADASgQ8AADgoPQCbi+T3iahqk6tqo9U1WVV9cQVjt+0ql4+P/6uqjp+ynq2g6rVHwAAsF7W429Pf8NuHZMFvKo6Ismzk5yW5MQkZ1XVicuanZ3kc939b5I8M8nTp6oHAABgdFP24J2c5LLu/lh3fzXJy5KcsazNGUleOH/+qiQPqNqe+X6Rby18swEAwE61Xn8vr9ff1KP+bT7lHLxjkly+ZHtfknsdrE13X1dVVyf51iSfWdqoqs5Jcs5884tV9ZFJKt5+js6yfyuYkOuNjeaaY6O55thIrrcJrVc428Ih7/YHO7AtFlnp7nOTnLvZdWw1VbW3u/dsdh3sDK43Npprjo3mmmMjud6YypRDNK9IctyS7WPn+1ZsU1W7ktwmyVUT1gQAADCsKQPehUlOqKo7VNVNkpyZ5Pxlbc5P8tPz5z+W5M3dFlkFAAA4HJMN0ZzPqXtskjcmOSLJC7r74qp6WpK93X1+kj9O8uKquizJZzMLgSzOsFU2kuuNjeaaY6O55thIrjcmUTrMAAAAxjDpjc4BAADYOAIeAADAIAS8La6qjquqt1TVJVV1cVU9foU2VVXPqqrLquoDVXXSZtTK9rfg9XZKVV1dVe+bP568GbUyhqq6WVW9u6reP7/mfmuFNjetqpfPP+PeVVXHb0KpDGLBa+6RVbV/yefcozejVsZRVUdU1Xur6nUrHPMZx7raFvfB2+GuS/LL3f2eqjoyyUVV9abuvmRJm9OSnDB/3CvJH+abbyoPi1jkekuSt3f3j2xCfYzn2iT37+4vVtWNk/x/VfWG7n7nkjZnJ/lcd/+bqjozydOT/MRmFMsQFrnmkuTl3f3YTaiPMT0+yaVJbr3CMZ9xrCs9eFtcd3+6u98zf/6FzD4cjlnW7IwkL+qZdyY5qqpuu8GlMoAFrzdYN/PPrS/ON288fyxf/euMJC+cP39VkgdUVW1QiQxmwWsO1k1VHZvkh5M8/yBNfMaxrgS8bWTeZX/PJO9aduiYJJcv2d4Xf5RzAx3iekuSfzsf3vSGqvruja2M0cyHLr0vyZVJ3tTdB/2M6+7rklyd5Fs3tEiGssA1lyQPmU97eFVVHbexFTKYP0jyq0m+fpDjPuNYVwLeNlFVt0ry6iS/0N3XbHY9jG2V6+09SW7f3fdI8t+TvHaDy2Mw3f217v6eJMcmObmq7rrJJTG4Ba65P09yfHffPcmb8i+9K7AmVfUjSa7s7os2uxZ2DgFvG5jPEXh1kj/t7tes0OSKJEu/XTx2vg/WbLXrrbuvOTC8qbsvSHLjqjp6g8tkQN39+SRvSXLqskPf+Iyrql1JbpPkqg0tjiEd7Jrr7qu6+9r55vOTfO8Gl8Y47pPk9Kr6RJKXJbl/Vb1kWRufcawrAW+Lm4/B/uMkl3b37x+k2flJfmq+mua9k1zd3Z/esCIZxiLXW1V9+4G5AVV1cmafI34RcViqandVHTV/fvMkD0zy4WXNzk/y0/PnP5bkzd1tzhSHZZFrbtk89tMzm48Ma9bdv97dx3b38UnOzOzz6+HLmvmMY11ZRXPru0+SRyT54Hy+QJL8RpLbJUl3/1GSC5I8KMllSb6c5FEbXyaDWOR6+7Ek/6mqrkvylSRn+kXEDXDbJC+sqiMy+7LgFd39uqp6WpK93X1+Zl86vLiqLkvy2cz+SILDtcg197iqOj2zlYU/m+SRm1YtQ/IZx5TK32UAAABjMEQTAABgEAIeAADAIAQ8AACAQQh4AAAAgxDwAAAANkBVvaCqrqyqDy3Y/ser6pKquriq/myR1wh4AGx7VdVV9Ywl20+oqqfOnz+1qq6oqvdV1Yeq6vSqul9VvWPZOXZV1T9V1Xcs2/9/VtVPraGWU6rqdcv2nVdVPzZ//iNV9d6qev/8l/bPrFDnR6vqNVV14pr/MQDYys5LcuoiDavqhCS/nuQ+3f3dSX5hkdcJeACM4NokP1pVRx/k+DO7+3uSPDTJC5K8PcmxVXX7JW1+MMnF3f2ppS/s7j/q7hetR5FVdeMk5yZ5cHffI8k9k7x1eZ3dfUKSlyd5c1XtXo/3BmDzdffbMrvf4TdU1XdV1V9U1UVV9faquvP80GOSPLu7Pzd/7ZWLvIeAB8AIrsssOP3ioRp196XztkcneUWuf0PhM5O8dPlr5j1rT5g/f2tVPb2q3l1Vf19V911jnUcm2ZXkqnk913b3Rw5S68uT/GWSn1zjewCwvZyb5Oe7+3uTPCHJc+b775jkjlX1t1X1zqpaqOdPwANgFM9O8rCqus3BGlTVvZJ8Pcn+zMLcmfP9N03yoCSvXuB9dnX3yZkNlXnKWgrs7s8mOT/JJ6vqpVX1sKo61O/i9yS58yGOA7CNVdWtknx/kldW1fuSPDfJbeeHdyU5IckpSc5K8ryqOmq1c+6aolAA2GjdfU1VvSjJ45J8ZdnhX6yqhyf5QpKf6O5OsreqblVVd0pylyTvmgew1bxm/t+Lkhy/UikHK3Fe56Or6m6ZDQl9QpIHJnnkQV5TC9QDwPZ1oySfn08jWG5fZr+b/jnJx6vq7zMLfBeudkIAGMUfJDk7yS2X7T8wt+2+3f32JfsP9OKtODzzIK6d//drWfmL0quS/Ktl+74lyWcObHT3B7v7mZmFu4cc4r3umeTSBesCYJvp7msyC28PTZKaucf88Gsz673LfI75HZN8bLVzCngADGPeA/eKzELeIl6a5OFJ7p/k/12nMj6a5Duq6i5JMl/I5R5J3jfvMTxlSdvvSfLJlU5SVQ9J8kNZPHgCsMVV1UuTvCPJnapqX1WdneRhSc6uqvcnuTjJGfPmb0xyVVVdkuQtSX6lu69a7T0M0QRgNM9I8thFGnb3pVX1pSQXdfeX1uPNu/va+XDQP6mqmyX55ySP7u6rq+rIJL9aVc/NbBjpl3L94ZkHhpLeMsmHkty/u/evR10AbL7uPusgh75pAZX5dIJfmj8WVrPXAQAAsN0ZogkAADAIAQ8AAGAQAh4AAMAgBDwAAIBBCHgAAACDEPAAAAAGIeABAAAM4v8H4i+teSfYv58AAAAASUVORK5CYII=",
       "datasetInfos": [],
       "metadata": {
        "imageDimensions": {
         "height": 604,
         "width": 888
        }
       },
       "removedWidgets": [],
       "type": "image"
      },
      "image/png": {
       "height": 604,
       "width": 888
      }
     },
     "output_type": "display_data"
    }
   ],
   "source": [
    "npv_10_after, irr_10_after = get_results_plot(npv_irr_after_tax_10, \"10\", before_tax=False)"
   ]
  },
  {
   "cell_type": "code",
   "execution_count": null,
   "metadata": {
    "application/vnd.databricks.v1+cell": {
     "inputWidgets": {},
     "nuid": "8a24a3fe-5c44-4594-a011-ac8f4d824676",
     "showTitle": false,
     "title": ""
    }
   },
   "outputs": [
    {
     "data": {
      "text/html": [
       "<style scoped>\n",
       "  .ansiout {\n",
       "    display: block;\n",
       "    unicode-bidi: embed;\n",
       "    white-space: pre-wrap;\n",
       "    word-wrap: break-word;\n",
       "    word-break: break-all;\n",
       "    font-family: \"Source Code Pro\", \"Menlo\", monospace;;\n",
       "    font-size: 13px;\n",
       "    color: #555;\n",
       "    margin-left: 4px;\n",
       "    line-height: 19px;\n",
       "  }\n",
       "</style>\n",
       "<div class=\"ansiout\">3007620.5887212004\n",
       "2996725.05\n",
       "1909058.32\n",
       "4337429.19\n",
       "</div>"
      ]
     },
     "metadata": {
      "application/vnd.databricks.v1+output": {
       "addedWidgets": {},
       "arguments": {},
       "data": "<div class=\"ansiout\">3007620.5887212004\n2996725.05\n1909058.32\n4337429.19\n</div>",
       "datasetInfos": [],
       "metadata": {},
       "removedWidgets": [],
       "type": "html"
      }
     },
     "output_type": "display_data"
    }
   ],
   "source": [
    "print(np.mean(npv_10_after))\n",
    "print(np.median(npv_10_after))\n",
    "print(np.min(npv_10_after))\n",
    "print(np.max(npv_10_after))"
   ]
  },
  {
   "cell_type": "code",
   "execution_count": null,
   "metadata": {
    "application/vnd.databricks.v1+cell": {
     "inputWidgets": {},
     "nuid": "ade2c1fa-25c9-4e16-aab2-eafa15327b6b",
     "showTitle": false,
     "title": ""
    }
   },
   "outputs": [
    {
     "data": {
      "text/html": [
       "<style scoped>\n",
       "  .ansiout {\n",
       "    display: block;\n",
       "    unicode-bidi: embed;\n",
       "    white-space: pre-wrap;\n",
       "    word-wrap: break-word;\n",
       "    word-break: break-all;\n",
       "    font-family: \"Source Code Pro\", \"Menlo\", monospace;;\n",
       "    font-size: 13px;\n",
       "    color: #555;\n",
       "    margin-left: 4px;\n",
       "    line-height: 19px;\n",
       "  }\n",
       "</style>\n",
       "<div class=\"ansiout\">2181673.0076988004\n",
       "2187194.465\n",
       "1743839.91\n",
       "2502651.39\n",
       "</div>"
      ]
     },
     "metadata": {
      "application/vnd.databricks.v1+output": {
       "addedWidgets": {},
       "arguments": {},
       "data": "<div class=\"ansiout\">2181673.0076988004\n2187194.465\n1743839.91\n2502651.39\n</div>",
       "datasetInfos": [],
       "metadata": {},
       "removedWidgets": [],
       "type": "html"
      }
     },
     "output_type": "display_data"
    }
   ],
   "source": [
    "print(np.mean(npv_5_after))\n",
    "print(np.median(npv_5_after))\n",
    "print(np.min(npv_5_after))\n",
    "print(np.max(npv_5_after))"
   ]
  },
  {
   "cell_type": "code",
   "execution_count": null,
   "metadata": {
    "application/vnd.databricks.v1+cell": {
     "inputWidgets": {},
     "nuid": "74379578-5ae2-4a45-b47f-07b690e3badc",
     "showTitle": false,
     "title": ""
    }
   },
   "outputs": [
    {
     "data": {
      "text/html": [
       "<style scoped>\n",
       "  .ansiout {\n",
       "    display: block;\n",
       "    unicode-bidi: embed;\n",
       "    white-space: pre-wrap;\n",
       "    word-wrap: break-word;\n",
       "    word-break: break-all;\n",
       "    font-family: \"Source Code Pro\", \"Menlo\", monospace;;\n",
       "    font-size: 13px;\n",
       "    color: #555;\n",
       "    margin-left: 4px;\n",
       "    line-height: 19px;\n",
       "  }\n",
       "</style>\n",
       "<div class=\"ansiout\">1280149.9699424\n",
       "1280597.1400000001\n",
       "1089413.96\n",
       "1451078.85\n",
       "</div>"
      ]
     },
     "metadata": {
      "application/vnd.databricks.v1+output": {
       "addedWidgets": {},
       "arguments": {},
       "data": "<div class=\"ansiout\">1280149.9699424\n1280597.1400000001\n1089413.96\n1451078.85\n</div>",
       "datasetInfos": [],
       "metadata": {},
       "removedWidgets": [],
       "type": "html"
      }
     },
     "output_type": "display_data"
    }
   ],
   "source": [
    "print(np.mean(npv_3_after))\n",
    "print(np.median(npv_3_after))\n",
    "print(np.min(npv_3_after))\n",
    "print(np.max(npv_3_after))"
   ]
  },
  {
   "cell_type": "code",
   "execution_count": null,
   "metadata": {
    "application/vnd.databricks.v1+cell": {
     "inputWidgets": {},
     "nuid": "203543f3-d98f-45a1-b083-9fd066bb09ba",
     "showTitle": false,
     "title": ""
    }
   },
   "outputs": [],
   "source": []
  }
 ],
 "metadata": {
  "application/vnd.databricks.v1+notebook": {
   "dashboards": [],
   "language": "python",
   "notebookMetadata": {
    "pythonIndentUnit": 2
   },
   "notebookName": "capital_budgeting_cloud_tutorial",
   "notebookOrigID": 2461542657148852,
   "widgets": {}
  },
  "kernelspec": {
   "display_name": "Python 3 (ipykernel)",
   "language": "python",
   "name": "python3"
  },
  "language_info": {
   "codemirror_mode": {
    "name": "ipython",
    "version": 3
   },
   "file_extension": ".py",
   "mimetype": "text/x-python",
   "name": "python",
   "nbconvert_exporter": "python",
   "pygments_lexer": "ipython3",
   "version": "3.8.12"
  }
 },
 "nbformat": 4,
 "nbformat_minor": 4
}
